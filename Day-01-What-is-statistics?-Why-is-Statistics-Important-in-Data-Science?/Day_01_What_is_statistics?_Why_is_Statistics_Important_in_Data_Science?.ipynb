{
  "nbformat": 4,
  "nbformat_minor": 0,
  "metadata": {
    "colab": {
      "provenance": [],
      "authorship_tag": "ABX9TyMq0HNE0FT8vpKny0iWW+Jh",
      "include_colab_link": true
    },
    "kernelspec": {
      "name": "python3",
      "display_name": "Python 3"
    },
    "language_info": {
      "name": "python"
    }
  },
  "cells": [
    {
      "cell_type": "markdown",
      "metadata": {
        "id": "view-in-github",
        "colab_type": "text"
      },
      "source": [
        "<a href=\"https://colab.research.google.com/github/Saifullah785/statistics-for-data-science-journey/blob/main/Day-01-What-is-statistics%3F-Why-is-Statistics-Important-in-Data-Science%3F/Day_01_What_is_statistics%3F_Why_is_Statistics_Important_in_Data_Science%3F.ipynb\" target=\"_parent\"><img src=\"https://colab.research.google.com/assets/colab-badge.svg\" alt=\"Open In Colab\"/></a>"
      ]
    },
    {
      "cell_type": "markdown",
      "source": [
        "# **📘 Introduction to Statistics for Data Science**"
      ],
      "metadata": {
        "id": "cv-mIv9LRDeg"
      }
    },
    {
      "cell_type": "markdown",
      "source": [
        "#**What is statistics?**\n",
        "\n",
        "Statistics is a branch of mathematics that deals with the collection , analysis, interpretation, presentation, and organization of data.\n",
        "\n",
        "In applying statistics to a scientific, industrial,or socialproblem, it is conventional to begin with a statistical population or a statistical model to be studied."
      ],
      "metadata": {
        "id": "mQ8JuOIfKiK_"
      }
    },
    {
      "cell_type": "markdown",
      "source": [
        "**According to chatgpt**\n",
        "\n",
        "Statistics is the science of collecting, organizing, analyzing, and interpreting data to make informed decisions.\n",
        "\n",
        "**Simple definition:**\n",
        "\n",
        "Statistics helps us understand what data is telling us."
      ],
      "metadata": {
        "id": "cXgzU44HRDpH"
      }
    },
    {
      "cell_type": "markdown",
      "source": [
        "content\n",
        "\n",
        "1 statistics intro\n",
        "2. Data 5  pillar\n",
        "3. Data types\n",
        "4. level / scales of measurement\n",
        "5. Data collection  & sampling\n",
        "6. Data visualization\n",
        "7. EDA Exploratory data analysis\n",
        "8. Descriptive statistics.\n",
        "    central tendency mean -> median ->mode\n",
        "\n",
        "    variability  => range -> variance->s.d\n",
        "\n",
        "9. Data distribution.\n",
        "\n",
        "    skewnes / kurtosis\n",
        "\n",
        "    Normal distribution.\n",
        "\n",
        "10. Probability Theory -->Ml /Ai\n",
        "\n",
        "11. Inferential statistics.\n",
        "\n",
        "    pop  vs sample\n",
        "\n",
        "    sampling distribution\n",
        "\n",
        "    confidence interval\n",
        "\n",
        "    hypothesis testing\n",
        "\n",
        "    types of error\n",
        "\n",
        "    (type 1 and type 2)\n",
        "\n",
        "    common statistical test.\n",
        "\n",
        "    univariate analysis\n",
        "\n",
        "    bi analysis\n",
        "    \n",
        "    significance\n",
        "\n",
        "    Ml\n",
        "\n",
        "\n",
        "\n",
        "\n"
      ],
      "metadata": {
        "id": "w_zCCpQPSOne"
      }
    },
    {
      "cell_type": "markdown",
      "source": [
        "# **Why is Statistics Important in Data Science?**\n",
        "\n",
        "In Data Science, we work with huge amounts of data (from users, sensors, markets, etc.).\n",
        "\n",
        "**Statistics gives us the tools to:**\n",
        "\n",
        "how to collect data\n",
        "\n",
        "Understand data\n",
        "\n",
        "Find patterns\n",
        "\n",
        "Summarize data (without going through each number)\n",
        "\n",
        "Make predictions\n",
        "\n",
        "Make decisions under uncertainty\n",
        "\n",
        "**In short:**\n",
        "\n",
        "Data Science = Data + Statistics + Machine Learning"
      ],
      "metadata": {
        "id": "4l_efBGBRref"
      }
    },
    {
      "cell_type": "markdown",
      "source": [
        "# **Daily Life Example to Understand Statistics**\n",
        "\n",
        "Pizza Delivery Example (Daily Routine)\n",
        "Let’s say you order pizza from your favorite restaurant 5 times a month. You record the delivery times (in minutes):\n",
        "\n",
        "[28, 32, 31, 30, 29]\n",
        "\n",
        "**You want to know:**\n",
        "\n",
        "\"How fast do they usually deliver?\"\n",
        "\n",
        "**Step-by-Step Breakdown Using Statistics:**\n",
        "\n",
        "**1. Descriptive Statistics:**\n",
        "\n",
        "Mean (Average): (28 + 32 + 31 + 30 + 29) / 5 = 30 minutes\n",
        "\n",
        "Median (Middle value): 30 (sorted list: 28, 29, 30, 31, 32)\n",
        "\n",
        "Range: 32 - 28 = 4 minutes\n",
        "\n",
        "Standard Deviation (how spread out the times are): Small (since all are close to 30)\n",
        "\n",
        "**Conclusion:**\n",
        "\n",
        "They usually deliver in about 30 mins, with little variation.\n",
        "\n",
        "**2. Inferential Statistics:**\n",
        "\n",
        "Now imagine you want to suggest this pizza place to your office of 100 coworkers.\n",
        "\n",
        "You can't ask everyone, so you ask 10 random people who’ve tried it.\n",
        "\n",
        "8 out of 10 say the pizza is delivered on time.\n",
        "\n",
        "U**sing this sample, you infer:**\n",
        "\n",
        "“Probably 80 out of 100 people will find delivery time okay.”\n",
        "\n",
        "That’s Inferential Statistics – drawing conclusions from samples."
      ],
      "metadata": {
        "id": "-F2IKPXyVU8s"
      }
    }
  ]
}